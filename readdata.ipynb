{
 "cells": [
  {
   "cell_type": "markdown",
   "metadata": {},
   "source": [
    "# Simple import"
   ]
  },
  {
   "cell_type": "code",
   "execution_count": 14,
   "metadata": {},
   "outputs": [],
   "source": [
    "import numpy as np\n",
    "import pandas as pd\n",
    "import urllib3\n",
    "\n",
    "urllib3.disable_warnings(urllib3.exceptions.InsecureRequestWarning)"
   ]
  },
  {
   "cell_type": "code",
   "execution_count": 15,
   "metadata": {},
   "outputs": [],
   "source": [
    "filename=\"C:\\\\Users\\\\beimnet.bekele\\\\Documents\\\\Enviroments\\\\robot-third\\\\TestData\\\\WKD_TESTDATA_IMPL2.xlsx\"\n",
    "filename_2=\"C:/Users/beimnet.bekele/Documents/Enviroments/robot-third/TestData/WKD_TESTDATA_IMPL2.xlsx\"\n",
    "sheetname=\"Change_SIM\""
   ]
  },
  {
   "cell_type": "code",
   "execution_count": 16,
   "metadata": {},
   "outputs": [],
   "source": [
    "data = pd.read_excel(filename_2, sheet_name=sheetname)"
   ]
  },
  {
   "cell_type": "code",
   "execution_count": 17,
   "metadata": {},
   "outputs": [
    {
     "data": {
      "text/html": [
       "<div>\n",
       "<style scoped>\n",
       "    .dataframe tbody tr th:only-of-type {\n",
       "        vertical-align: middle;\n",
       "    }\n",
       "\n",
       "    .dataframe tbody tr th {\n",
       "        vertical-align: top;\n",
       "    }\n",
       "\n",
       "    .dataframe thead th {\n",
       "        text-align: right;\n",
       "    }\n",
       "</style>\n",
       "<table border=\"1\" class=\"dataframe\">\n",
       "  <thead>\n",
       "    <tr style=\"text-align: right;\">\n",
       "      <th></th>\n",
       "      <th>TestCaseId</th>\n",
       "      <th>TestDataId</th>\n",
       "      <th>Action_Type</th>\n",
       "      <th>ServiceID</th>\n",
       "      <th>COMMENT</th>\n",
       "      <th>REASON</th>\n",
       "      <th>Search Dropdown</th>\n",
       "      <th>FilePath</th>\n",
       "      <th>DocumentType</th>\n",
       "    </tr>\n",
       "  </thead>\n",
       "  <tbody>\n",
       "    <tr>\n",
       "      <th>0</th>\n",
       "      <td>TC_001</td>\n",
       "      <td>TD_01</td>\n",
       "      <td>Change SIM-POSTPAID</td>\n",
       "      <td>251799135309</td>\n",
       "      <td>change sim for Perticular Service Id by select...</td>\n",
       "      <td>Simcard Blocked</td>\n",
       "      <td>ChangeSim</td>\n",
       "      <td>E:/WKD_Automation_IMPL2/Resource/TestData/pass...</td>\n",
       "      <td>Bank Statements</td>\n",
       "    </tr>\n",
       "  </tbody>\n",
       "</table>\n",
       "</div>"
      ],
      "text/plain": [
       "  TestCaseId TestDataId          Action_Type     ServiceID  \\\n",
       "0     TC_001      TD_01  Change SIM-POSTPAID  251799135309   \n",
       "\n",
       "                                             COMMENT           REASON  \\\n",
       "0  change sim for Perticular Service Id by select...  Simcard Blocked   \n",
       "\n",
       "  Search Dropdown                                           FilePath  \\\n",
       "0       ChangeSim  E:/WKD_Automation_IMPL2/Resource/TestData/pass...   \n",
       "\n",
       "      DocumentType  \n",
       "0  Bank Statements  "
      ]
     },
     "execution_count": 17,
     "metadata": {},
     "output_type": "execute_result"
    }
   ],
   "source": [
    "data.head(10)"
   ]
  },
  {
   "cell_type": "code",
   "execution_count": 18,
   "metadata": {},
   "outputs": [],
   "source": [
    "data.index = data['TestCaseId']\n",
    "dataframe = data.loc[[\"TC_001\"]]\n",
    "dataframe.index = dataframe['TestDataId']\n",
    "test = dataframe.loc[[\"TD_01\"]]"
   ]
  },
  {
   "cell_type": "code",
   "execution_count": 19,
   "metadata": {},
   "outputs": [
    {
     "name": "stdout",
     "output_type": "stream",
     "text": [
      "           TestCaseId TestDataId          Action_Type     ServiceID  \\\n",
      "TestDataId                                                            \n",
      "TD_01          TC_001      TD_01  Change SIM-POSTPAID  251799135309   \n",
      "\n",
      "                                                      COMMENT  \\\n",
      "TestDataId                                                      \n",
      "TD_01       change sim for Perticular Service Id by select...   \n",
      "\n",
      "                     REASON Search Dropdown  \\\n",
      "TestDataId                                    \n",
      "TD_01       Simcard Blocked       ChangeSim   \n",
      "\n",
      "                                                     FilePath     DocumentType  \n",
      "TestDataId                                                                      \n",
      "TD_01       E:/WKD_Automation_IMPL2/Resource/TestData/pass...  Bank Statements  \n"
     ]
    }
   ],
   "source": [
    "print(test)"
   ]
  },
  {
   "cell_type": "code",
   "execution_count": 26,
   "metadata": {},
   "outputs": [],
   "source": [
    "\n",
    "def fetch_from_ExcelData(filename, sheetname, TestCase_ID, TestData_ID):\n",
    "    data = pd.read_excel(filename, sheet_name=sheetname)\n",
    "    # data.index = data['TestCaseId']\n",
    "    # dataframe = data.loc[[TestCase_ID]]\n",
    "    # dataframe.index = dataframe['TestDataId']\n",
    "    # test = dataframe.loc[[TestData_ID]]\n",
    "    test = data[(data['TestCaseId']==TestCase_ID) & (data['TestDataId'] == TestData_ID)]\n",
    "    return test\n",
    "\n",
    "def getData(Data, Tag):\n",
    "    # Fill NaN values with empty strings\n",
    "    dataSet = Data.fillna('')\n",
    "\n",
    "    # Print the specific tag column for debugging\n",
    "    # print(f\"#######  {dataSet[Tag]}\")\n",
    "\n",
    "    # Check the type of the first entry in the 'Tag' column\n",
    "    if type(dataSet.loc[0, Tag]) != str and dataSet.loc[0, Tag] != 'NaN':\n",
    "        # Convert the entire 'Tag' column to integers\n",
    "        dataSet[Tag] = dataSet[Tag].astype(np.int64)\n",
    "    else:\n",
    "        # If the first entry is a string or NaN, assign the first value to the entire column\n",
    "        dataSet[Tag] = dataSet.loc[0, Tag]\n",
    "\n",
    "    # Return the first value of the 'Tag' column\n",
    "    return dataSet.loc[0, Tag]"
   ]
  },
  {
   "cell_type": "code",
   "execution_count": 27,
   "metadata": {},
   "outputs": [],
   "source": [
    "test_one = fetch_from_ExcelData(filename_2,sheetname,\"TC_001\",\"TD_01\")\n"
   ]
  },
  {
   "cell_type": "code",
   "execution_count": 33,
   "metadata": {},
   "outputs": [
    {
     "data": {
      "text/html": [
       "<div>\n",
       "<style scoped>\n",
       "    .dataframe tbody tr th:only-of-type {\n",
       "        vertical-align: middle;\n",
       "    }\n",
       "\n",
       "    .dataframe tbody tr th {\n",
       "        vertical-align: top;\n",
       "    }\n",
       "\n",
       "    .dataframe thead th {\n",
       "        text-align: right;\n",
       "    }\n",
       "</style>\n",
       "<table border=\"1\" class=\"dataframe\">\n",
       "  <thead>\n",
       "    <tr style=\"text-align: right;\">\n",
       "      <th></th>\n",
       "      <th>TestCaseId</th>\n",
       "      <th>TestDataId</th>\n",
       "      <th>Action_Type</th>\n",
       "      <th>ServiceID</th>\n",
       "      <th>COMMENT</th>\n",
       "      <th>REASON</th>\n",
       "      <th>Search Dropdown</th>\n",
       "      <th>FilePath</th>\n",
       "      <th>DocumentType</th>\n",
       "    </tr>\n",
       "  </thead>\n",
       "  <tbody>\n",
       "    <tr>\n",
       "      <th>0</th>\n",
       "      <td>TC_001</td>\n",
       "      <td>TD_01</td>\n",
       "      <td>Change SIM-POSTPAID</td>\n",
       "      <td>251799135309</td>\n",
       "      <td>change sim for Perticular Service Id by select...</td>\n",
       "      <td>Simcard Blocked</td>\n",
       "      <td>ChangeSim</td>\n",
       "      <td>E:/WKD_Automation_IMPL2/Resource/TestData/pass...</td>\n",
       "      <td>Bank Statements</td>\n",
       "    </tr>\n",
       "  </tbody>\n",
       "</table>\n",
       "</div>"
      ],
      "text/plain": [
       "  TestCaseId TestDataId          Action_Type     ServiceID  \\\n",
       "0     TC_001      TD_01  Change SIM-POSTPAID  251799135309   \n",
       "\n",
       "                                             COMMENT           REASON  \\\n",
       "0  change sim for Perticular Service Id by select...  Simcard Blocked   \n",
       "\n",
       "  Search Dropdown                                           FilePath  \\\n",
       "0       ChangeSim  E:/WKD_Automation_IMPL2/Resource/TestData/pass...   \n",
       "\n",
       "      DocumentType  \n",
       "0  Bank Statements  "
      ]
     },
     "execution_count": 33,
     "metadata": {},
     "output_type": "execute_result"
    }
   ],
   "source": [
    "test_one.head(2)"
   ]
  },
  {
   "cell_type": "code",
   "execution_count": 34,
   "metadata": {},
   "outputs": [
    {
     "name": "stdout",
     "output_type": "stream",
     "text": [
      "Simcard Blocked\n"
     ]
    }
   ],
   "source": [
    "print(getData(test_one, \"REASON\"))"
   ]
  }
 ],
 "metadata": {
  "kernelspec": {
   "display_name": "robot-third",
   "language": "python",
   "name": "python3"
  },
  "language_info": {
   "codemirror_mode": {
    "name": "ipython",
    "version": 3
   },
   "file_extension": ".py",
   "mimetype": "text/x-python",
   "name": "python",
   "nbconvert_exporter": "python",
   "pygments_lexer": "ipython3",
   "version": "3.13.0"
  }
 },
 "nbformat": 4,
 "nbformat_minor": 2
}
