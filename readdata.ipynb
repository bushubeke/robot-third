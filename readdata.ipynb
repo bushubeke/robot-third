{
 "cells": [
  {
   "cell_type": "markdown",
   "metadata": {},
   "source": [
    "# Simple import"
   ]
  },
  {
   "cell_type": "code",
   "execution_count": 224,
   "metadata": {},
   "outputs": [],
   "source": [
    "import numpy as np\n",
    "import pandas as pd\n",
    "import urllib3\n",
    "\n",
    "urllib3.disable_warnings(urllib3.exceptions.InsecureRequestWarning)"
   ]
  },
  {
   "cell_type": "code",
   "execution_count": 225,
   "metadata": {},
   "outputs": [],
   "source": [
    "filename=\"C:\\\\Users\\\\beimnet.bekele\\\\Documents\\\\Enviroments\\\\robot-third\\\\TestData\\\\WKD_TESTDATA_IMPL2.xlsx\"\n",
    "filename_2=\"C:/Users/beimnet.bekele/Documents/Enviroments/robot-third/TestData/WKD_TESTDATA_IMPL2.xlsx\"\n",
    "filename_3=\"C:/Users/beimnet.bekele/Documents/Enviroments/robot-third/TestData/WKD_TESTDATA_IMPL2.csv\"\n",
    "sheetname=\"Change_SIM\"\n",
    "sheetname_2=\"ADJUST_ACCOUNT\""
   ]
  },
  {
   "cell_type": "code",
   "execution_count": 128,
   "metadata": {},
   "outputs": [],
   "source": [
    "data = pd.read_excel(filename_2, sheet_name=sheetname_2)"
   ]
  },
  {
   "cell_type": "code",
   "execution_count": 226,
   "metadata": {},
   "outputs": [
    {
     "data": {
      "text/html": [
       "<div>\n",
       "<style scoped>\n",
       "    .dataframe tbody tr th:only-of-type {\n",
       "        vertical-align: middle;\n",
       "    }\n",
       "\n",
       "    .dataframe tbody tr th {\n",
       "        vertical-align: top;\n",
       "    }\n",
       "\n",
       "    .dataframe thead th {\n",
       "        text-align: right;\n",
       "    }\n",
       "</style>\n",
       "<table border=\"1\" class=\"dataframe\">\n",
       "  <thead>\n",
       "    <tr style=\"text-align: right;\">\n",
       "      <th></th>\n",
       "      <th>TestCaseId</th>\n",
       "      <th>TestDataId</th>\n",
       "      <th>Action_Type</th>\n",
       "      <th>ServiceID</th>\n",
       "      <th>COMMENT</th>\n",
       "      <th>REASON</th>\n",
       "      <th>Search Dropdown</th>\n",
       "      <th>FilePath</th>\n",
       "      <th>DocumentType</th>\n",
       "      <th>TYPE</th>\n",
       "      <th>Amount</th>\n",
       "    </tr>\n",
       "  </thead>\n",
       "  <tbody>\n",
       "    <tr>\n",
       "      <th>0</th>\n",
       "      <td>TC_002</td>\n",
       "      <td>TD_02</td>\n",
       "      <td>Adjust Main Account Prepaid</td>\n",
       "      <td>251700408785</td>\n",
       "      <td>Adjust Account Increment</td>\n",
       "      <td>Add air time</td>\n",
       "      <td>ChangeSim</td>\n",
       "      <td>E:/WKD_Automation_IMPL2/Resource/TestData/pass...</td>\n",
       "      <td>Bank Statements</td>\n",
       "      <td>Increment</td>\n",
       "      <td>200</td>\n",
       "    </tr>\n",
       "    <tr>\n",
       "      <th>1</th>\n",
       "      <td>TC_002</td>\n",
       "      <td>TD_03</td>\n",
       "      <td>Adjust Main Account Prepaid</td>\n",
       "      <td>251700408785</td>\n",
       "      <td>Adjust Account Increment</td>\n",
       "      <td>Add air time</td>\n",
       "      <td>ChangeSim</td>\n",
       "      <td>E:/WKD_Automation_IMPL2/Resource/TestData/pass...</td>\n",
       "      <td>Bank Statements</td>\n",
       "      <td>Decrement</td>\n",
       "      <td>140</td>\n",
       "    </tr>\n",
       "  </tbody>\n",
       "</table>\n",
       "</div>"
      ],
      "text/plain": [
       "  TestCaseId TestDataId                  Action_Type     ServiceID  \\\n",
       "0     TC_002      TD_02  Adjust Main Account Prepaid  251700408785   \n",
       "1     TC_002      TD_03  Adjust Main Account Prepaid  251700408785   \n",
       "\n",
       "                    COMMENT        REASON Search Dropdown  \\\n",
       "0  Adjust Account Increment  Add air time       ChangeSim   \n",
       "1  Adjust Account Increment  Add air time       ChangeSim   \n",
       "\n",
       "                                            FilePath     DocumentType  \\\n",
       "0  E:/WKD_Automation_IMPL2/Resource/TestData/pass...  Bank Statements   \n",
       "1  E:/WKD_Automation_IMPL2/Resource/TestData/pass...  Bank Statements   \n",
       "\n",
       "        TYPE  Amount  \n",
       "0  Increment     200  \n",
       "1  Decrement     140  "
      ]
     },
     "execution_count": 226,
     "metadata": {},
     "output_type": "execute_result"
    }
   ],
   "source": [
    "data.head(10)"
   ]
  },
  {
   "cell_type": "code",
   "execution_count": 9,
   "metadata": {},
   "outputs": [],
   "source": [
    "data.index = data['TestCaseId']\n",
    "dataframe = data.loc[[\"TC_002\"]]\n",
    "dataframe.index = dataframe['TestDataId']\n",
    "test = dataframe.loc[[\"TD_02\"]]"
   ]
  },
  {
   "cell_type": "code",
   "execution_count": 21,
   "metadata": {},
   "outputs": [
    {
     "name": "stdout",
     "output_type": "stream",
     "text": [
      "           TestCaseId TestDataId           Action_Type     ServiceID  \\\n",
      "TestDataId                                                             \n",
      "TD_02          TC_002      TD_02  AdustAccount-Prepaid  251700408785   \n",
      "\n",
      "                             COMMENT       TYPE Search Dropdown  Amount  \\\n",
      "TestDataId                                                                \n",
      "TD_02       Adjust prepaid Increment  Increment       Increment     200   \n",
      "\n",
      "               DocumentType  \n",
      "TestDataId                   \n",
      "TD_02       Bank Statements  \n"
     ]
    }
   ],
   "source": [
    "print(test)"
   ]
  },
  {
   "cell_type": "code",
   "execution_count": 267,
   "metadata": {},
   "outputs": [],
   "source": [
    "\n",
    "def fetch_from_ExcelData(filename, sheetname, TestCase_ID, TestData_ID):\n",
    "     # Read the Excel file into a DataFrame\n",
    "    data = pd.read_excel(filename, sheet_name=sheetname)\n",
    "\n",
    "\n",
    "\n",
    "    # Filter the data based on the TestCase_ID and TestData_ID\n",
    "    test = data[(data['TestCaseId'] == TestCase_ID) & (data['TestDataId'] == TestData_ID)]\n",
    "    \n",
    "    test =test.to_dict(orient='records')\n",
    "    if len(test) > 0:\n",
    "        return test[0]\n",
    "    else:\n",
    "        return {}\n",
    "   \n",
    "def fetch_from_CSVData(filename, sheetname, TestCase_ID, TestData_ID):\n",
    "     # Read the Excel file into a DataFrame\n",
    "    data = pd.read_csv(filename)\n",
    "\n",
    "    test = data[(data['TestCaseId'] == TestCase_ID) & (data['TestDataId'] == TestData_ID)]\n",
    "    return test\n",
    "    \n",
    "def getData(Data, Tag):\n",
    "    # Fill NaN values with empty strings\n",
    "    # dataSet = Data.fillna('')\n",
    "    # return dataSet[Tag].to_list()[0]\n",
    "    return Data.get(Tag, \"Not there\")\n",
    "\n",
    "# def getData(Data, Tag):\n",
    "#     dataSet = Data\n",
    "#     dataSet = dataSet.fillna('')\n",
    "#     # print(f\"#######  {dataSet[Tag]}\")\n",
    "#     if type(dataSet[Tag][0]) != str and dataSet[Tag][0] != 'NaN':\n",
    "#         dataSet[Tag] = dataSet[Tag].astype(np.int64)\n",
    "#     else:\n",
    "#         dataSet[Tag] = dataSet[Tag][0]\n",
    "\n",
    "#     # dataSet[Tag] = dataSet[Tag].astype('str')\n",
    "#     return dataSet[Tag].to_list()[0]\n"
   ]
  },
  {
   "cell_type": "code",
   "execution_count": 268,
   "metadata": {},
   "outputs": [],
   "source": [
    "test_one = fetch_from_ExcelData(filename_2,sheetname_2,\"TC_002\",\"TD_03\")\n",
    "# test_one = fetch_from_CSVData(filename_3,sheetname,\"TC_001\",\"TD_01\")\n",
    "# test_one[test_one.columns[-1]]\n"
   ]
  },
  {
   "cell_type": "code",
   "execution_count": 270,
   "metadata": {},
   "outputs": [
    {
     "data": {
      "text/plain": [
       "{'TestCaseId': 'TC_002',\n",
       " 'TestDataId': 'TD_03',\n",
       " 'Action_Type': 'Adjust Main Account Prepaid',\n",
       " 'ServiceID': 251700408785,\n",
       " 'COMMENT': 'Adjust Account Increment',\n",
       " 'REASON': 'Add air time',\n",
       " 'Search Dropdown': 'ChangeSim',\n",
       " 'FilePath': 'Somefile',\n",
       " 'DocumentType': 'Bank Statements',\n",
       " 'TYPE': 'Decrement',\n",
       " 'Amount': 140}"
      ]
     },
     "execution_count": 270,
     "metadata": {},
     "output_type": "execute_result"
    }
   ],
   "source": [
    "# test_one[\"Amount\"].to_list()[0]\n",
    "test_one"
   ]
  },
  {
   "cell_type": "code",
   "execution_count": 265,
   "metadata": {},
   "outputs": [
    {
     "name": "stdout",
     "output_type": "stream",
     "text": [
      "{'TestCaseId': 'TC_002', 'TestDataId': 'TD_02', 'Action_Type': 'AdustAccount-Prepaid', 'ServiceID': 251700408785, 'COMMENT': 'Adjust prepaid Increment', 'TYPE': 'Increment', 'Search Dropdown': 'Increment', 'Amount': 200, 'DocumentType': 'Bank Statements'}\n"
     ]
    }
   ],
   "source": [
    "print(test.to_dict(orient='records')[0])"
   ]
  },
  {
   "cell_type": "code",
   "execution_count": 269,
   "metadata": {},
   "outputs": [
    {
     "name": "stdout",
     "output_type": "stream",
     "text": [
      "251700408785\n"
     ]
    }
   ],
   "source": [
    "print(getData(test_one, \"ServiceID\"))\n",
    "# amount_column = test_one[\"ServiceID\"]\n",
    "# print(amount_column)"
   ]
  },
  {
   "cell_type": "code",
   "execution_count": 239,
   "metadata": {},
   "outputs": [
    {
     "name": "stdout",
     "output_type": "stream",
     "text": [
      "None\n"
     ]
    }
   ],
   "source": [
    "print(test_one.get('TYPE'))"
   ]
  },
  {
   "cell_type": "code",
   "execution_count": 1,
   "metadata": {},
   "outputs": [],
   "source": [
    "import datetime"
   ]
  },
  {
   "cell_type": "code",
   "execution_count": 5,
   "metadata": {},
   "outputs": [
    {
     "data": {
      "text/plain": [
       "'11-12-2024'"
      ]
     },
     "execution_count": 5,
     "metadata": {},
     "output_type": "execute_result"
    }
   ],
   "source": [
    "datetime.datetime.now().strftime(\"%d-%m-%Y\")"
   ]
  }
 ],
 "metadata": {
  "kernelspec": {
   "display_name": "robot-third",
   "language": "python",
   "name": "python3"
  },
  "language_info": {
   "codemirror_mode": {
    "name": "ipython",
    "version": 3
   },
   "file_extension": ".py",
   "mimetype": "text/x-python",
   "name": "python",
   "nbconvert_exporter": "python",
   "pygments_lexer": "ipython3",
   "version": "3.13.0"
  }
 },
 "nbformat": 4,
 "nbformat_minor": 2
}
